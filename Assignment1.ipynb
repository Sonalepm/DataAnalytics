{
 "cells": [
  {
   "cell_type": "code",
   "execution_count": 1,
   "metadata": {},
   "outputs": [],
   "source": [
    "tks = ['IBM', 'MSFT', 'GOOG', 'AAPL', 'AMZN', 'FB']"
   ]
  },
  {
   "cell_type": "code",
   "execution_count": 2,
   "metadata": {},
   "outputs": [],
   "source": [
    "allprices = {}"
   ]
  },
  {
   "cell_type": "code",
   "execution_count": 3,
   "metadata": {},
   "outputs": [],
   "source": [
    "def get_AdjClose(path):\n",
    "    f = open(path)\n",
    "    lines = [x.rstrip() for x in f ]\n",
    "    lines.remove(lines[0])\n",
    "    Adj_Close = []\n",
    "    for line in lines:\n",
    "        rows = line.split(',')    \n",
    "        Adj_Close.append(rows[5])\n",
    "    return(Adj_Close)"
   ]
  },
  {
   "cell_type": "code",
   "execution_count": 4,
   "metadata": {},
   "outputs": [],
   "source": [
    "for tk in tks:\n",
    "    path = './{0}.csv'.format(tk)\n",
    "    allprices[tk] = get_AdjClose(path)\n"
   ]
  },
  {
   "cell_type": "code",
   "execution_count": 5,
   "metadata": {},
   "outputs": [],
   "source": [
    "def find_correlation(x,y):\n",
    "    x_mean = find_mean(x)\n",
    "    y_mean = find_mean(y)\n",
    "    var = correlation_num = correlation_den =  correlation = 0\n",
    "    list_length = len(allprices[x])\n",
    "    for i in range(0,list_length):\n",
    "           correlation_num += (float(allprices[x][i]) - x_mean) * (float(allprices[y][i]) - y_mean)\n",
    "    correlation_den = find_sd(x) * find_sd(y)\n",
    "    correlation = correlation_num/correlation_den\n",
    "    return(round(correlation,3))\n"
   ]
  },
  {
   "cell_type": "code",
   "execution_count": 6,
   "metadata": {},
   "outputs": [],
   "source": [
    "def find_mean(x):\n",
    "    x_sum = 0\n",
    "    for value in allprices[x]:\n",
    "        x_sum += float(value)\n",
    "    x_mean = x_sum / len(allprices[x])\n",
    "    return(x_mean)"
   ]
  },
  {
   "cell_type": "code",
   "execution_count": 7,
   "metadata": {},
   "outputs": [],
   "source": [
    "def find_sd(x):\n",
    "    x_sd = 0\n",
    "    list_length = len(allprices[x])\n",
    "    for i in range(0,list_length):\n",
    "        x_sd += (float(allprices[x][i]) - find_mean(x))** 2\n",
    "    return(x_sd**0.5)"
   ]
  },
  {
   "cell_type": "code",
   "execution_count": 8,
   "metadata": {},
   "outputs": [
    {
     "name": "stdout",
     "output_type": "stream",
     "text": [
      "IBM : MSFT = -0.418\n",
      "IBM : GOOG = 0.427\n",
      "IBM : AAPL = -0.011\n",
      "IBM : AMZN = -0.094\n",
      "IBM : FB = 0.63\n",
      "MSFT : GOOG = 0.461\n",
      "MSFT : AAPL = 0.787\n",
      "MSFT : AMZN = 0.873\n",
      "MSFT : FB = -0.294\n",
      "GOOG : AAPL = 0.586\n",
      "GOOG : AMZN = 0.66\n",
      "GOOG : FB = 0.529\n",
      "AAPL : AMZN = 0.84\n",
      "AAPL : FB = -0.027\n",
      "AMZN : FB = 0.053\n"
     ]
    }
   ],
   "source": [
    "for i in range(0,len(tks)) : \n",
    "    for j in range(i+1,len(tks)):\n",
    "        x ,y = tks[i], tks[j]\n",
    "        print('{0} : {1} = {2}'.format(x,y,find_correlation(x,y)))\n",
    "        \n",
    "   "
   ]
  }
 ],
 "metadata": {
  "kernelspec": {
   "display_name": "Python 3",
   "language": "python",
   "name": "python3"
  },
  "language_info": {
   "codemirror_mode": {
    "name": "ipython",
    "version": 3
   },
   "file_extension": ".py",
   "mimetype": "text/x-python",
   "name": "python",
   "nbconvert_exporter": "python",
   "pygments_lexer": "ipython3",
   "version": "3.7.3"
  }
 },
 "nbformat": 4,
 "nbformat_minor": 2
}
